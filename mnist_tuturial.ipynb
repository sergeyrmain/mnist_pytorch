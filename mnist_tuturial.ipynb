{
  "nbformat": 4,
  "nbformat_minor": 0,
  "metadata": {
    "colab": {
      "name": "mnist_tuturial.ipynb",
      "provenance": [],
      "collapsed_sections": [],
      "authorship_tag": "ABX9TyO7tXke3RxHYvrKYR6vxpp7",
      "include_colab_link": true
    },
    "kernelspec": {
      "name": "python3",
      "display_name": "Python 3"
    },
    "language_info": {
      "name": "python"
    }
  },
  "cells": [
    {
      "cell_type": "markdown",
      "metadata": {
        "id": "view-in-github",
        "colab_type": "text"
      },
      "source": [
        "<a href=\"https://colab.research.google.com/github/sergeyrmain/mnist_pytorch/blob/main/mnist_tuturial.ipynb\" target=\"_parent\"><img src=\"https://colab.research.google.com/assets/colab-badge.svg\" alt=\"Open In Colab\"/></a>"
      ]
    },
    {
      "cell_type": "code",
      "metadata": {
        "colab": {
          "base_uri": "https://localhost:8080/"
        },
        "id": "VHpgvBHJYZ4h",
        "outputId": "f2474042-e8ad-4393-c2e0-e12522648e46"
      },
      "source": [
        "!pip install torch scikit-learn==0.20.* skorch"
      ],
      "execution_count": null,
      "outputs": [
        {
          "output_type": "stream",
          "name": "stdout",
          "text": [
            "Requirement already satisfied: torch in /usr/local/lib/python3.7/dist-packages (1.9.0+cu102)\n",
            "Collecting scikit-learn==0.20.*\n",
            "  Downloading scikit_learn-0.20.4-cp37-cp37m-manylinux1_x86_64.whl (5.4 MB)\n",
            "\u001b[K     |████████████████████████████████| 5.4 MB 18.0 MB/s \n",
            "\u001b[?25hCollecting skorch\n",
            "  Downloading skorch-0.10.0-py3-none-any.whl (128 kB)\n",
            "\u001b[K     |████████████████████████████████| 128 kB 62.7 MB/s \n",
            "\u001b[?25hRequirement already satisfied: scipy>=0.13.3 in /usr/local/lib/python3.7/dist-packages (from scikit-learn==0.20.*) (1.4.1)\n",
            "Requirement already satisfied: numpy>=1.8.2 in /usr/local/lib/python3.7/dist-packages (from scikit-learn==0.20.*) (1.19.5)\n",
            "Requirement already satisfied: typing-extensions in /usr/local/lib/python3.7/dist-packages (from torch) (3.7.4.3)\n",
            "Requirement already satisfied: tabulate>=0.7.7 in /usr/local/lib/python3.7/dist-packages (from skorch) (0.8.9)\n",
            "Requirement already satisfied: tqdm>=4.14.0 in /usr/local/lib/python3.7/dist-packages (from skorch) (4.62.0)\n",
            "Installing collected packages: scikit-learn, skorch\n",
            "  Attempting uninstall: scikit-learn\n",
            "    Found existing installation: scikit-learn 0.22.2.post1\n",
            "    Uninstalling scikit-learn-0.22.2.post1:\n",
            "      Successfully uninstalled scikit-learn-0.22.2.post1\n",
            "Successfully installed scikit-learn-0.20.4 skorch-0.10.0\n"
          ]
        }
      ]
    },
    {
      "cell_type": "code",
      "metadata": {
        "id": "mAM3ZIIZ42tF"
      },
      "source": [
        "import numpy as np\n",
        "from sklearn.datasets import fetch_openml\n",
        "import matplotlib.pyplot as plt\n",
        "from sklearn.model_selection import train_test_split\n",
        "import torch\n",
        "from torch import nn\n",
        "import torch.nn.functional as F\n",
        "from skorch import NeuralNetClassifier"
      ],
      "execution_count": null,
      "outputs": []
    },
    {
      "cell_type": "code",
      "metadata": {
        "id": "HYMdmYly5iXQ"
      },
      "source": [
        "\n",
        "mnist=fetch_openml(\"mnist_784\",cache=False)"
      ],
      "execution_count": null,
      "outputs": []
    },
    {
      "cell_type": "code",
      "metadata": {
        "colab": {
          "base_uri": "https://localhost:8080/"
        },
        "id": "SU1WMPyWLS8S",
        "outputId": "c98eefa9-1639-49aa-9d46-09ba54e4fd77"
      },
      "source": [
        "type(mnist)"
      ],
      "execution_count": null,
      "outputs": [
        {
          "output_type": "execute_result",
          "data": {
            "text/plain": [
              "sklearn.utils.Bunch"
            ]
          },
          "metadata": {},
          "execution_count": 4
        }
      ]
    },
    {
      "cell_type": "code",
      "metadata": {
        "colab": {
          "base_uri": "https://localhost:8080/"
        },
        "id": "Wh9OmcDN5-E2",
        "outputId": "d6fb402f-927b-43dd-c5e2-3a0fea7e06fe"
      },
      "source": [
        "mnist.data.shape\n"
      ],
      "execution_count": null,
      "outputs": [
        {
          "output_type": "execute_result",
          "data": {
            "text/plain": [
              "(70000, 784)"
            ]
          },
          "metadata": {},
          "execution_count": 5
        }
      ]
    },
    {
      "cell_type": "code",
      "metadata": {
        "id": "BE8Ta-h389XI"
      },
      "source": [
        "sqaredata=mnist.data.reshape(70000,28,28)\n"
      ],
      "execution_count": null,
      "outputs": []
    },
    {
      "cell_type": "code",
      "metadata": {
        "colab": {
          "base_uri": "https://localhost:8080/"
        },
        "id": "Ktfv5E4w6T47",
        "outputId": "97a6b7b4-142e-4140-88b1-00ab7ebd3a32"
      },
      "source": [
        "28*28\n"
      ],
      "execution_count": null,
      "outputs": [
        {
          "output_type": "execute_result",
          "data": {
            "text/plain": [
              "784"
            ]
          },
          "metadata": {},
          "execution_count": 7
        }
      ]
    },
    {
      "cell_type": "code",
      "metadata": {
        "colab": {
          "base_uri": "https://localhost:8080/"
        },
        "id": "i0hQ77p36rfl",
        "outputId": "4bf67a66-4774-4837-ab1a-e8d20f5f874d"
      },
      "source": [
        "mnist.target"
      ],
      "execution_count": null,
      "outputs": [
        {
          "output_type": "execute_result",
          "data": {
            "text/plain": [
              "array(['5', '0', '4', ..., '4', '5', '6'], dtype=object)"
            ]
          },
          "metadata": {},
          "execution_count": 8
        }
      ]
    },
    {
      "cell_type": "code",
      "metadata": {
        "id": "wm_I-Mf77l00"
      },
      "source": [
        "X=mnist.data.astype('float32')\n",
        "Y=mnist.target.astype('int64')"
      ],
      "execution_count": null,
      "outputs": []
    },
    {
      "cell_type": "markdown",
      "metadata": {
        "id": "K0lvlLUF8gjw"
      },
      "source": [
        "#preprocessing"
      ]
    },
    {
      "cell_type": "code",
      "metadata": {
        "id": "wZly4o_x7wNn"
      },
      "source": [
        "X=X/255.0"
      ],
      "execution_count": null,
      "outputs": []
    },
    {
      "cell_type": "code",
      "metadata": {
        "colab": {
          "base_uri": "https://localhost:8080/"
        },
        "id": "R-mL2ObH8PSK",
        "outputId": "67e81811-9ec3-44ec-a95d-0ffc7eda77df"
      },
      "source": [
        "X.min(),X.max()"
      ],
      "execution_count": null,
      "outputs": [
        {
          "output_type": "execute_result",
          "data": {
            "text/plain": [
              "(0.0, 1.0)"
            ]
          },
          "metadata": {},
          "execution_count": 11
        }
      ]
    },
    {
      "cell_type": "code",
      "metadata": {
        "id": "XW99MCFm8YDZ"
      },
      "source": [
        "X_train,X_test,Y_train,Y_test=train_test_split(X,Y,test_size=0.2,random_state=20)"
      ],
      "execution_count": null,
      "outputs": []
    },
    {
      "cell_type": "code",
      "metadata": {
        "colab": {
          "base_uri": "https://localhost:8080/"
        },
        "id": "Aka9xPOK-rYC",
        "outputId": "bb5a4c3a-4fc9-46dc-f767-485b0a22e076"
      },
      "source": [
        "X_train.shape,Y_train.shape"
      ],
      "execution_count": null,
      "outputs": [
        {
          "output_type": "execute_result",
          "data": {
            "text/plain": [
              "((56000, 784), (56000,))"
            ]
          },
          "metadata": {},
          "execution_count": 13
        }
      ]
    },
    {
      "cell_type": "code",
      "metadata": {
        "colab": {
          "base_uri": "https://localhost:8080/"
        },
        "id": "N4GD1bML-6Ns",
        "outputId": "8f0f9098-6683-4030-c412-197b4f926eb2"
      },
      "source": [
        "700000*0.8"
      ],
      "execution_count": null,
      "outputs": [
        {
          "output_type": "execute_result",
          "data": {
            "text/plain": [
              "560000.0"
            ]
          },
          "metadata": {},
          "execution_count": 14
        }
      ]
    },
    {
      "cell_type": "markdown",
      "metadata": {
        "id": "dSbicl7g_LPo"
      },
      "source": [
        "#Building nural network with **pytorch**"
      ]
    },
    {
      "cell_type": "code",
      "metadata": {
        "id": "KlPAezEn_KZv",
        "colab": {
          "base_uri": "https://localhost:8080/"
        },
        "outputId": "286e3aea-0017-4117-a5de-179ccabdf5db"
      },
      "source": [
        "data_X=X.reshape(-1,1,28,28)\n",
        "data_X.shape"
      ],
      "execution_count": null,
      "outputs": [
        {
          "output_type": "execute_result",
          "data": {
            "text/plain": [
              "(70000, 1, 28, 28)"
            ]
          },
          "metadata": {},
          "execution_count": 15
        }
      ]
    },
    {
      "cell_type": "code",
      "metadata": {
        "colab": {
          "base_uri": "https://localhost:8080/"
        },
        "id": "zoXpVCOQL-4E",
        "outputId": "58c069fa-9a7c-4e39-b42e-afee6632631b"
      },
      "source": [
        "data_X_train,data_X_test,data_Y_train,data_Y_test=train_test_split(data_X,Y,test_size=0.2,random_state=20)\n",
        "data_X_train.shape,data_Y_train.shape"
      ],
      "execution_count": null,
      "outputs": [
        {
          "output_type": "execute_result",
          "data": {
            "text/plain": [
              "((56000, 1, 28, 28), (56000,))"
            ]
          },
          "metadata": {},
          "execution_count": 16
        }
      ]
    },
    {
      "cell_type": "code",
      "metadata": {
        "id": "DE2xRZ-gDwwv"
      },
      "source": [
        ""
      ],
      "execution_count": null,
      "outputs": []
    },
    {
      "cell_type": "markdown",
      "metadata": {
        "id": "caMeuTenMtP8"
      },
      "source": [
        "#building the actual network"
      ]
    },
    {
      "cell_type": "code",
      "metadata": {
        "id": "ZGt_Dto_M6dS"
      },
      "source": [
        "class My_network(nn.Module):\n",
        "  def __init__(self,dropout=0.5):\n",
        "    super(My_network,self).__init__()\n",
        "    self.conv1=nn.Conv2d(1,32,kernel_size=3)\n",
        "    self.conv2=nn.Conv2d(32,64,kernel_size=3)\n",
        "    self.conv2_drop=nn.Dropout2d(dropout)\n",
        "    self.fc1=nn.Linear(1600,100)\n",
        "    self.fc2=nn.Linear(100,10)\n",
        "    self.fc1_drop=nn.Dropout(dropout)\n",
        "  \n",
        "\n",
        "  def forward(self,X):\n",
        "    X=torch.relu(F.max_pool2d(self.conv1(X),2))\n",
        "    X=torch.relu(F.max_pool2d(self.conv2_drop(self.conv2(X)),2))\n",
        "\n",
        "    X=X.view(-1,X.size(1)*X.size(2)*X.size(3))\n",
        "    X=torch.relu(self.fc1_drop(self.fc1(X)))\n",
        "    X=torch.softmax(self.fc2(X),dim=-1)\n",
        "    return X"
      ],
      "execution_count": null,
      "outputs": []
    },
    {
      "cell_type": "code",
      "metadata": {
        "colab": {
          "base_uri": "https://localhost:8080/"
        },
        "id": "6wSjK1htPJZL",
        "outputId": "c7150bd0-0593-4cb1-d1d0-2641b98ce669"
      },
      "source": [
        "784*64\n"
      ],
      "execution_count": null,
      "outputs": [
        {
          "output_type": "execute_result",
          "data": {
            "text/plain": [
              "50176"
            ]
          },
          "metadata": {},
          "execution_count": 18
        }
      ]
    },
    {
      "cell_type": "code",
      "metadata": {
        "id": "zOKcQbXRPUXl"
      },
      "source": [
        "torch.manual_seed(0)\n",
        "device='cuda'\n",
        "net = NeuralNetClassifier(\n",
        "    My_network,\n",
        "    max_epochs=10,\n",
        "    lr=0.1,\n",
        "    # Shuffle training data on each epoch\n",
        "    iterator_train__shuffle=True,\n",
        ")\n",
        "#my_cnn=NeuralNetClassifier(My_network,20,0.1,device)\n"
      ],
      "execution_count": null,
      "outputs": []
    },
    {
      "cell_type": "code",
      "metadata": {
        "id": "OG3Nl9yJV5N5",
        "colab": {
          "base_uri": "https://localhost:8080/"
        },
        "outputId": "f8de37f7-d369-4fbe-eb29-64f365065b5f"
      },
      "source": [
        "net.fit(data_X_train,data_Y_train)"
      ],
      "execution_count": null,
      "outputs": [
        {
          "output_type": "stream",
          "name": "stderr",
          "text": [
            "/usr/local/lib/python3.7/dist-packages/torch/nn/functional.py:718: UserWarning: Named tensors and all their associated APIs are an experimental feature and subject to change. Please do not use them for anything important until they are released as stable. (Triggered internally at  /pytorch/c10/core/TensorImpl.h:1156.)\n",
            "  return torch.max_pool2d(input, kernel_size, stride, padding, dilation, ceil_mode)\n"
          ]
        },
        {
          "output_type": "stream",
          "name": "stdout",
          "text": [
            "  epoch    train_loss    valid_acc    valid_loss      dur\n",
            "-------  ------------  -----------  ------------  -------\n",
            "      1        \u001b[36m0.7579\u001b[0m       \u001b[32m0.9486\u001b[0m        \u001b[35m0.1721\u001b[0m  35.0006\n",
            "      2        \u001b[36m0.2347\u001b[0m       \u001b[32m0.9650\u001b[0m        \u001b[35m0.1120\u001b[0m  34.3924\n",
            "      3        \u001b[36m0.1757\u001b[0m       \u001b[32m0.9747\u001b[0m        \u001b[35m0.0815\u001b[0m  34.4365\n",
            "      4        \u001b[36m0.1494\u001b[0m       \u001b[32m0.9776\u001b[0m        \u001b[35m0.0708\u001b[0m  34.3491\n",
            "      5        \u001b[36m0.1306\u001b[0m       \u001b[32m0.9800\u001b[0m        \u001b[35m0.0638\u001b[0m  34.4026\n",
            "      6        \u001b[36m0.1165\u001b[0m       \u001b[32m0.9812\u001b[0m        \u001b[35m0.0582\u001b[0m  34.3990\n",
            "      7        \u001b[36m0.1097\u001b[0m       \u001b[32m0.9846\u001b[0m        \u001b[35m0.0497\u001b[0m  34.5410\n",
            "      8        \u001b[36m0.0985\u001b[0m       \u001b[32m0.9862\u001b[0m        \u001b[35m0.0462\u001b[0m  34.4872\n",
            "      9        \u001b[36m0.0967\u001b[0m       \u001b[32m0.9863\u001b[0m        \u001b[35m0.0443\u001b[0m  34.5738\n",
            "     10        \u001b[36m0.0909\u001b[0m       0.9860        0.0444  34.4532\n"
          ]
        },
        {
          "output_type": "execute_result",
          "data": {
            "text/plain": [
              "<class 'skorch.classifier.NeuralNetClassifier'>[initialized](\n",
              "  module_=My_network(\n",
              "    (conv1): Conv2d(1, 32, kernel_size=(3, 3), stride=(1, 1))\n",
              "    (conv2): Conv2d(32, 64, kernel_size=(3, 3), stride=(1, 1))\n",
              "    (conv2_drop): Dropout2d(p=0.5, inplace=False)\n",
              "    (fc1): Linear(in_features=1600, out_features=100, bias=True)\n",
              "    (fc2): Linear(in_features=100, out_features=10, bias=True)\n",
              "    (fc1_drop): Dropout(p=0.5, inplace=False)\n",
              "  ),\n",
              ")"
            ]
          },
          "metadata": {},
          "execution_count": 20
        }
      ]
    },
    {
      "cell_type": "code",
      "metadata": {
        "id": "2QE1KeqHezC8"
      },
      "source": [
        "#prediction_cnn=net.predict(data_X_test,data_Y_test)\n",
        "from sklearn.metrics import accuracy_score"
      ],
      "execution_count": null,
      "outputs": []
    },
    {
      "cell_type": "code",
      "metadata": {
        "id": "3jBTpi58fkSX"
      },
      "source": [
        "Y_pred=net.predict(data_X_test)"
      ],
      "execution_count": null,
      "outputs": []
    },
    {
      "cell_type": "code",
      "metadata": {
        "colab": {
          "base_uri": "https://localhost:8080/"
        },
        "id": "b7r52RqSfv24",
        "outputId": "ca009a05-e319-4a14-e5ed-9d4f5fb27d0e"
      },
      "source": [
        "print(Y_pred)"
      ],
      "execution_count": null,
      "outputs": [
        {
          "output_type": "stream",
          "name": "stdout",
          "text": [
            "[1 8 3 ... 1 8 1]\n"
          ]
        }
      ]
    },
    {
      "cell_type": "code",
      "metadata": {
        "colab": {
          "base_uri": "https://localhost:8080/"
        },
        "id": "pjpBMzAMf6WL",
        "outputId": "88c8fddc-aae3-4138-97fc-c457bf545f3b"
      },
      "source": [
        "accuracy_score(data_Y_test,Y_pred)"
      ],
      "execution_count": null,
      "outputs": [
        {
          "output_type": "execute_result",
          "data": {
            "text/plain": [
              "0.9846428571428572"
            ]
          },
          "metadata": {},
          "execution_count": 25
        }
      ]
    },
    {
      "cell_type": "code",
      "metadata": {
        "id": "PXngm7xogehK"
      },
      "source": [
        "error_vec=Y_pred!=data_Y_test"
      ],
      "execution_count": null,
      "outputs": []
    },
    {
      "cell_type": "code",
      "metadata": {
        "colab": {
          "base_uri": "https://localhost:8080/"
        },
        "id": "5nYHRx-egNPg",
        "outputId": "fc047516-c2ae-40f9-d759-b37b5ad8d4b0"
      },
      "source": [
        "print(error_vec)"
      ],
      "execution_count": null,
      "outputs": [
        {
          "output_type": "stream",
          "name": "stdout",
          "text": [
            "[False False False ... False False False]\n"
          ]
        }
      ]
    },
    {
      "cell_type": "code",
      "metadata": {
        "id": "rrHVBGTrhQPn"
      },
      "source": [
        "def plot_example(X,Y):\n",
        "  for idx,(img,y) in enumerate(zip(X[:5].reshape(5,28,28),Y[:5])):\n",
        "    plt.subplot(151+idx)\n",
        "    plt.imshow(img)\n",
        "    plt.xticks([])\n",
        "    plt.yticks([])\n",
        "    plt.title(y)"
      ],
      "execution_count": null,
      "outputs": []
    },
    {
      "cell_type": "code",
      "metadata": {
        "colab": {
          "base_uri": "https://localhost:8080/",
          "height": 108
        },
        "id": "t4d-xUCagVNb",
        "outputId": "c4956153-2a4b-49bd-8e3e-af06eed35f79"
      },
      "source": [
        "plot_example(data_X_test[error_vec],Y_pred[error_vec])"
      ],
      "execution_count": null,
      "outputs": [
        {
          "output_type": "display_data",
          "data": {
            "image/png": "[encoded data removed]",
            "text/plain": [
              "<Figure size 432x288 with 5 Axes>"
            ]
          },
          "metadata": {}
        }
      ]
    }
  ]
}